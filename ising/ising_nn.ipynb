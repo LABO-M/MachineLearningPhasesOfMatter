{
 "cells": [
  {
   "attachments": {},
   "cell_type": "markdown",
   "metadata": {},
   "source": [
    "# 『Machine learning phases of matter』を理解したい\n",
    "## 原著論文について\n",
    "\n",
    "https://arxiv.org/abs/1605.01735\n",
    "\n",
    "### Abstract\n",
    "\n",
    "Neural networks can be used to identify phases and phase transitions in condensed matter systems via supervised machine learning.\n",
    "\n",
    "Readily programmable through modern software libraries, we show that a standard feed-forward neural network can be trained to detect multiple types of order parameter directly from raw state configurations sampled with Monte Carlo. \n",
    "\n",
    "In addition, they can detect highly non-trivial states such as Coulomb phases, and if modified to a convolutional neural network, topological phases with no conventional order parameter. \n",
    "\n",
    "We show that this classification occurs within the neural network without knowledge of the Hamiltonian or even the general locality of interactions. \n",
    "\n",
    "These results demonstrate the power of machine learning as a basic research tool in the field of condensed matter and statistical physics.\n",
    "\n",
    "\n",
    "ニューラルネットワークは、教師ありの機械学習によって、凝縮系における相や相転移を特定するために使用することができます。\n",
    "\n",
    "最新のソフトウェアライブラリで容易にプログラム可能です、 \n",
    "\n",
    "標準的なフィードフォワードニューラルネットワークを学習させることで、モンテカルロ法でサンプリングした生の状態構成から直接、複数種類のオーダーパラメータを検出できることを示すものです。\n",
    "\n",
    "また、畳み込みニューラルネットワークに変更することで、従来の秩序変数のないトポロジカル相を検出することができます。\n",
    "\n",
    "この分類は、ハミルトニアンや相互作用の一般的な局所性さえも知ることなく、ニューラルネットワーク内で行われることを示す。これらの結果は、物性物理学および統計物理学の分野における基礎研究ツールとして、機械学習の威力を示すものである．"
   ]
  },
  {
   "attachments": {},
   "cell_type": "markdown",
   "metadata": {},
   "source": [
    "# 3回目（6/21)：『これならわかる機械学習入門』11章\n",
    "ニューラルネットワークを用いて、統計物理学の問題を解くことになります．\n",
    "\n",
    "まずは，ギブスサンプリングの復習から始めましょう．\n",
    "\n",
    "classの作り方を勉強したかったので，そちらの説明も入ります．"
   ]
  },
  {
   "cell_type": "code",
   "execution_count": 65,
   "metadata": {},
   "outputs": [],
   "source": [
    "# coding: utf-8\n",
    "import numpy as np\n",
    "import pandas as pd\n",
    "import matplotlib.pyplot as plt\n",
    "plt.style.use('ggplot')"
   ]
  },
  {
   "attachments": {},
   "cell_type": "markdown",
   "metadata": {},
   "source": [
    "ising_class.pyで作成されたクラスの中身を見てみましょう．"
   ]
  },
  {
   "cell_type": "code",
   "execution_count": 66,
   "metadata": {},
   "outputs": [],
   "source": [
    "class Squaresimulation:\n",
    "    def __init__(self, n):\n",
    "        self.n = n\n",
    "        self.lattice = self.create_lattice()\n",
    "        \n",
    "    def create_lattice(self):\n",
    "        lattice = np.random.choice([-1, 1], size=(self.n, self.n))\n",
    "        return lattice\n",
    "    \n",
    "    def compute_magnetization(self):\n",
    "        N  = self.lattice.shape[0] * self.lattice.shape[1]\n",
    "        magnetization = np.sum(self.lattice) / N\n",
    "        return magnetization\n",
    "    \n",
    "    def compute_neighbor_sum(self, row, col):\n",
    "        n = self.lattice.shape[0]\n",
    "        neighbor_sum = 0\n",
    "        \n",
    "        if row > 0:\n",
    "            neighbor_sum += self.lattice[row-1, col]\n",
    "        \n",
    "        if row < n-1:\n",
    "            neighbor_sum += self.lattice[row+1, col]\n",
    "        \n",
    "        if col > 0:\n",
    "            neighbor_sum += self.lattice[row, col-1]\n",
    "        \n",
    "        if col < n-1:\n",
    "            neighbor_sum += self.lattice[row, col+1]\n",
    "        \n",
    "        return neighbor_sum\n",
    "    \n",
    "    def compute_boltzmann_factor(self, row, col, beta, J, h):\n",
    "        neighbor_sum = self.compute_neighbor_sum(row, col)\n",
    "        p = np.exp(beta * (J * neighbor_sum + h))\n",
    "        m = np.exp(-beta * (J * neighbor_sum + h))\n",
    "        return p, m\n",
    "    \n",
    "    def compute_conditional_probability(self, row, col, beta, J, h):\n",
    "        p, m = self.compute_boltzmann_factor(row, col, beta, J, h)\n",
    "        p, m = p / (p + m), m / (p + m)\n",
    "        s = np.random.choice([1, -1], p=[p, m])\n",
    "        return s, p, m\n",
    "    \n",
    "    def update_lattice(self, s, row, col):\n",
    "        self.lattice[row, col] = s\n",
    "    \n",
    "    def one_step(self, beta, J, h):\n",
    "        n1 = self.lattice.shape[0]\n",
    "        n2 = self.lattice.shape[1]\n",
    "        \n",
    "        for row in range(n1):\n",
    "            for col in range(n2):\n",
    "                s, p, m = self.compute_conditional_probability(row, col, beta, J, h)\n",
    "                self.update_lattice(s, row, col)\n",
    "    \n",
    "    def compute_magnetization_transition(self, beta, J, h, n_steps):\n",
    "        magnetization_transition = []\n",
    "        \n",
    "        for i in range(n_steps):\n",
    "            self.one_step(beta, J, h)\n",
    "            m = self.compute_magnetization()\n",
    "            magnetization_transition.append(m)\n",
    "        \n",
    "        return magnetization_transition\n"
   ]
  },
  {
   "attachments": {},
   "cell_type": "markdown",
   "metadata": {},
   "source": [
    "それでは，ising_class.pyのSquaresimulationクラスを用いて，ギブスサンプリングを行いましょう．"
   ]
  },
  {
   "cell_type": "code",
   "execution_count": 67,
   "metadata": {},
   "outputs": [],
   "source": [
    "from ising_class import Squaresimulation"
   ]
  },
  {
   "cell_type": "code",
   "execution_count": 68,
   "metadata": {},
   "outputs": [],
   "source": [
    "n = 34\n",
    "beta = 0.7\n",
    "J = 1.0\n",
    "h = 0.005\n",
    "n_steps = 1000\n",
    "\n",
    "# インスタンス化して、compute_magnetization_transitionメソッドを呼び出す\n",
    "simulation = Squaresimulation(n)\n",
    "magnetization_transition = simulation.compute_magnetization_transition(beta, J, h, n_steps)"
   ]
  },
  {
   "cell_type": "code",
   "execution_count": 6,
   "metadata": {},
   "outputs": [
    {
     "data": {
      "image/png": "[encoded data removed]",
      "text/plain": [
       "<Figure size 640x480 with 2 Axes>"
      ]
     },
     "metadata": {},
     "output_type": "display_data"
    }
   ],
   "source": [
    "# 格子データのヒートマップを作成\n",
    "plt.imshow(simulation.lattice, cmap='gray', interpolation='nearest')\n",
    "plt.title('Spin Configuration')\n",
    "plt.colorbar()\n",
    "\n",
    "plt.show()"
   ]
  },
  {
   "cell_type": "code",
   "execution_count": 7,
   "metadata": {},
   "outputs": [
    {
     "data": {
      "image/png": "[encoded data removed]",
      "text/plain": [
       "<Figure size 640x480 with 1 Axes>"
      ]
     },
     "metadata": {},
     "output_type": "display_data"
    }
   ],
   "source": [
    "# 磁化率の推移をプロット\n",
    "plt.plot(magnetization_transition)\n",
    "plt.xlabel('Step')\n",
    "plt.ylabel('Magnetization')\n",
    "plt.title('Magnetization Transition')\n",
    "plt.show()"
   ]
  },
  {
   "attachments": {},
   "cell_type": "markdown",
   "metadata": {},
   "source": [
    "# データの生成"
   ]
  },
  {
   "cell_type": "code",
   "execution_count": 111,
   "metadata": {},
   "outputs": [],
   "source": [
    "# パラメータの設定\n",
    "J = 1\n",
    "h = 0.05\n",
    "beta_values = np.arange(0.05, 1.05, 0.1)\n",
    "n_steps = 50000\n",
    "discard_steps = 40000"
   ]
  },
  {
   "cell_type": "code",
   "execution_count": 112,
   "metadata": {},
   "outputs": [],
   "source": [
    "# データセットの作成\n",
    "data = {'Beta': [], 'Magnetization': [], 'Lattice': [], 'Label': []}\n",
    "\n",
    "for beta in beta_values:\n",
    "    simulation = Squaresimulation(32)  # グリッドのサイズを指定\n",
    "    magnetization_transition = simulation.compute_magnetization_transition(beta, J, h, n_steps)\n",
    "    magnetization_transition = magnetization_transition[discard_steps:]\n",
    "    lattice = simulation.lattice\n",
    "    label = 1 if beta <= 0.44 else 0\n",
    "    \n",
    "    for i in range(0, len(magnetization_transition), 100):\n",
    "        data['Beta'].append(beta)\n",
    "        data['Magnetization'].append(magnetization_transition[i])\n",
    "        data['Lattice'].append(lattice.tolist())\n",
    "        data['Label'].append(label)\n",
    "\n",
    "dataset = pd.DataFrame(data)"
   ]
  },
  {
   "cell_type": "code",
   "execution_count": 113,
   "metadata": {},
   "outputs": [],
   "source": [
    "# 最終的な磁化率の計算\n",
    "final_magnetizations = dataset.groupby('Beta')['Magnetization'].last().reset_index()"
   ]
  },
  {
   "cell_type": "code",
   "execution_count": 252,
   "metadata": {},
   "outputs": [
    {
     "data": {
      "text/html": [
       "<div>\n",
       "<style scoped>\n",
       "    .dataframe tbody tr th:only-of-type {\n",
       "        vertical-align: middle;\n",
       "    }\n",
       "\n",
       "    .dataframe tbody tr th {\n",
       "        vertical-align: top;\n",
       "    }\n",
       "\n",
       "    .dataframe thead th {\n",
       "        text-align: right;\n",
       "    }\n",
       "</style>\n",
       "<table border=\"1\" class=\"dataframe\">\n",
       "  <thead>\n",
       "    <tr style=\"text-align: right;\">\n",
       "      <th></th>\n",
       "      <th>Beta</th>\n",
       "      <th>Magnetization</th>\n",
       "      <th>Lattice</th>\n",
       "      <th>Label</th>\n",
       "    </tr>\n",
       "  </thead>\n",
       "  <tbody>\n",
       "    <tr>\n",
       "      <th>0</th>\n",
       "      <td>0.05</td>\n",
       "      <td>-0.021484</td>\n",
       "      <td>[[1, -1, -1, -1, -1, -1, -1, -1, -1, -1, -1, 1...</td>\n",
       "      <td>1</td>\n",
       "    </tr>\n",
       "    <tr>\n",
       "      <th>1</th>\n",
       "      <td>0.05</td>\n",
       "      <td>-0.033203</td>\n",
       "      <td>[[1, -1, -1, -1, -1, -1, -1, -1, -1, -1, -1, 1...</td>\n",
       "      <td>1</td>\n",
       "    </tr>\n",
       "    <tr>\n",
       "      <th>2</th>\n",
       "      <td>0.05</td>\n",
       "      <td>0.000000</td>\n",
       "      <td>[[1, -1, -1, -1, -1, -1, -1, -1, -1, -1, -1, 1...</td>\n",
       "      <td>1</td>\n",
       "    </tr>\n",
       "    <tr>\n",
       "      <th>3</th>\n",
       "      <td>0.05</td>\n",
       "      <td>-0.021484</td>\n",
       "      <td>[[1, -1, -1, -1, -1, -1, -1, -1, -1, -1, -1, 1...</td>\n",
       "      <td>1</td>\n",
       "    </tr>\n",
       "    <tr>\n",
       "      <th>4</th>\n",
       "      <td>0.05</td>\n",
       "      <td>0.041016</td>\n",
       "      <td>[[1, -1, -1, -1, -1, -1, -1, -1, -1, -1, -1, 1...</td>\n",
       "      <td>1</td>\n",
       "    </tr>\n",
       "    <tr>\n",
       "      <th>...</th>\n",
       "      <td>...</td>\n",
       "      <td>...</td>\n",
       "      <td>...</td>\n",
       "      <td>...</td>\n",
       "    </tr>\n",
       "    <tr>\n",
       "      <th>995</th>\n",
       "      <td>0.95</td>\n",
       "      <td>0.996094</td>\n",
       "      <td>[[1, 1, 1, 1, 1, 1, 1, 1, 1, 1, 1, 1, 1, 1, 1,...</td>\n",
       "      <td>0</td>\n",
       "    </tr>\n",
       "    <tr>\n",
       "      <th>996</th>\n",
       "      <td>0.95</td>\n",
       "      <td>1.000000</td>\n",
       "      <td>[[1, 1, 1, 1, 1, 1, 1, 1, 1, 1, 1, 1, 1, 1, 1,...</td>\n",
       "      <td>0</td>\n",
       "    </tr>\n",
       "    <tr>\n",
       "      <th>997</th>\n",
       "      <td>0.95</td>\n",
       "      <td>0.994141</td>\n",
       "      <td>[[1, 1, 1, 1, 1, 1, 1, 1, 1, 1, 1, 1, 1, 1, 1,...</td>\n",
       "      <td>0</td>\n",
       "    </tr>\n",
       "    <tr>\n",
       "      <th>998</th>\n",
       "      <td>0.95</td>\n",
       "      <td>0.998047</td>\n",
       "      <td>[[1, 1, 1, 1, 1, 1, 1, 1, 1, 1, 1, 1, 1, 1, 1,...</td>\n",
       "      <td>0</td>\n",
       "    </tr>\n",
       "    <tr>\n",
       "      <th>999</th>\n",
       "      <td>0.95</td>\n",
       "      <td>0.996094</td>\n",
       "      <td>[[1, 1, 1, 1, 1, 1, 1, 1, 1, 1, 1, 1, 1, 1, 1,...</td>\n",
       "      <td>0</td>\n",
       "    </tr>\n",
       "  </tbody>\n",
       "</table>\n",
       "<p>1000 rows × 4 columns</p>\n",
       "</div>"
      ],
      "text/plain": [
       "     Beta  Magnetization                                            Lattice  \\\n",
       "0    0.05      -0.021484  [[1, -1, -1, -1, -1, -1, -1, -1, -1, -1, -1, 1...   \n",
       "1    0.05      -0.033203  [[1, -1, -1, -1, -1, -1, -1, -1, -1, -1, -1, 1...   \n",
       "2    0.05       0.000000  [[1, -1, -1, -1, -1, -1, -1, -1, -1, -1, -1, 1...   \n",
       "3    0.05      -0.021484  [[1, -1, -1, -1, -1, -1, -1, -1, -1, -1, -1, 1...   \n",
       "4    0.05       0.041016  [[1, -1, -1, -1, -1, -1, -1, -1, -1, -1, -1, 1...   \n",
       "..    ...            ...                                                ...   \n",
       "995  0.95       0.996094  [[1, 1, 1, 1, 1, 1, 1, 1, 1, 1, 1, 1, 1, 1, 1,...   \n",
       "996  0.95       1.000000  [[1, 1, 1, 1, 1, 1, 1, 1, 1, 1, 1, 1, 1, 1, 1,...   \n",
       "997  0.95       0.994141  [[1, 1, 1, 1, 1, 1, 1, 1, 1, 1, 1, 1, 1, 1, 1,...   \n",
       "998  0.95       0.998047  [[1, 1, 1, 1, 1, 1, 1, 1, 1, 1, 1, 1, 1, 1, 1,...   \n",
       "999  0.95       0.996094  [[1, 1, 1, 1, 1, 1, 1, 1, 1, 1, 1, 1, 1, 1, 1,...   \n",
       "\n",
       "     Label  \n",
       "0        1  \n",
       "1        1  \n",
       "2        1  \n",
       "3        1  \n",
       "4        1  \n",
       "..     ...  \n",
       "995      0  \n",
       "996      0  \n",
       "997      0  \n",
       "998      0  \n",
       "999      0  \n",
       "\n",
       "[1000 rows x 4 columns]"
      ]
     },
     "execution_count": 252,
     "metadata": {},
     "output_type": "execute_result"
    }
   ],
   "source": [
    "dataset"
   ]
  },
  {
   "cell_type": "code",
   "execution_count": 253,
   "metadata": {},
   "outputs": [
    {
     "data": {
      "image/png": "[encoded data removed]",
      "text/plain": [
       "<Figure size 640x480 with 1 Axes>"
      ]
     },
     "metadata": {},
     "output_type": "display_data"
    }
   ],
   "source": [
    "# 各ベータについて平均を計算\n",
    "average_magnetizations = dataset.groupby('Beta')['Magnetization'].mean().reset_index()\n",
    "\n",
    "# プロット\n",
    "plt.plot(average_magnetizations['Beta'], average_magnetizations['Magnetization'])\n",
    "plt.xlabel('Beta')\n",
    "plt.ylabel('Average Magnetization')\n",
    "plt.title('Average Magnetization vs. Beta')\n",
    "plt.grid(True)\n",
    "plt.show()"
   ]
  },
  {
   "cell_type": "code",
   "execution_count": 254,
   "metadata": {},
   "outputs": [],
   "source": [
    "# CSVファイルにDataFrameを保存する\n",
    "dataset.to_csv('ising_square.csv', index=False)"
   ]
  },
  {
   "attachments": {},
   "cell_type": "markdown",
   "metadata": {},
   "source": [
    "# ニューラルネットワークの実装"
   ]
  },
  {
   "cell_type": "code",
   "execution_count": 269,
   "metadata": {},
   "outputs": [],
   "source": [
    "import numpy as np\n",
    "import pandas as pd\n",
    "from sklearn.model_selection import train_test_split\n",
    "from sklearn.neural_network import MLPClassifier\n",
    "import matplotlib.pyplot as plt"
   ]
  },
  {
   "cell_type": "code",
   "execution_count": 270,
   "metadata": {},
   "outputs": [
    {
     "data": {
      "text/html": [
       "<div>\n",
       "<style scoped>\n",
       "    .dataframe tbody tr th:only-of-type {\n",
       "        vertical-align: middle;\n",
       "    }\n",
       "\n",
       "    .dataframe tbody tr th {\n",
       "        vertical-align: top;\n",
       "    }\n",
       "\n",
       "    .dataframe thead th {\n",
       "        text-align: right;\n",
       "    }\n",
       "</style>\n",
       "<table border=\"1\" class=\"dataframe\">\n",
       "  <thead>\n",
       "    <tr style=\"text-align: right;\">\n",
       "      <th></th>\n",
       "      <th>Beta</th>\n",
       "      <th>Magnetization</th>\n",
       "      <th>Lattice</th>\n",
       "      <th>Label</th>\n",
       "    </tr>\n",
       "  </thead>\n",
       "  <tbody>\n",
       "    <tr>\n",
       "      <th>0</th>\n",
       "      <td>0.05</td>\n",
       "      <td>-0.021484</td>\n",
       "      <td>[[1, -1, -1, -1, -1, -1, -1, -1, -1, -1, -1, 1...</td>\n",
       "      <td>1</td>\n",
       "    </tr>\n",
       "    <tr>\n",
       "      <th>1</th>\n",
       "      <td>0.05</td>\n",
       "      <td>-0.033203</td>\n",
       "      <td>[[1, -1, -1, -1, -1, -1, -1, -1, -1, -1, -1, 1...</td>\n",
       "      <td>1</td>\n",
       "    </tr>\n",
       "    <tr>\n",
       "      <th>2</th>\n",
       "      <td>0.05</td>\n",
       "      <td>0.000000</td>\n",
       "      <td>[[1, -1, -1, -1, -1, -1, -1, -1, -1, -1, -1, 1...</td>\n",
       "      <td>1</td>\n",
       "    </tr>\n",
       "    <tr>\n",
       "      <th>3</th>\n",
       "      <td>0.05</td>\n",
       "      <td>-0.021484</td>\n",
       "      <td>[[1, -1, -1, -1, -1, -1, -1, -1, -1, -1, -1, 1...</td>\n",
       "      <td>1</td>\n",
       "    </tr>\n",
       "    <tr>\n",
       "      <th>4</th>\n",
       "      <td>0.05</td>\n",
       "      <td>0.041016</td>\n",
       "      <td>[[1, -1, -1, -1, -1, -1, -1, -1, -1, -1, -1, 1...</td>\n",
       "      <td>1</td>\n",
       "    </tr>\n",
       "    <tr>\n",
       "      <th>...</th>\n",
       "      <td>...</td>\n",
       "      <td>...</td>\n",
       "      <td>...</td>\n",
       "      <td>...</td>\n",
       "    </tr>\n",
       "    <tr>\n",
       "      <th>995</th>\n",
       "      <td>0.95</td>\n",
       "      <td>0.996094</td>\n",
       "      <td>[[1, 1, 1, 1, 1, 1, 1, 1, 1, 1, 1, 1, 1, 1, 1,...</td>\n",
       "      <td>0</td>\n",
       "    </tr>\n",
       "    <tr>\n",
       "      <th>996</th>\n",
       "      <td>0.95</td>\n",
       "      <td>1.000000</td>\n",
       "      <td>[[1, 1, 1, 1, 1, 1, 1, 1, 1, 1, 1, 1, 1, 1, 1,...</td>\n",
       "      <td>0</td>\n",
       "    </tr>\n",
       "    <tr>\n",
       "      <th>997</th>\n",
       "      <td>0.95</td>\n",
       "      <td>0.994141</td>\n",
       "      <td>[[1, 1, 1, 1, 1, 1, 1, 1, 1, 1, 1, 1, 1, 1, 1,...</td>\n",
       "      <td>0</td>\n",
       "    </tr>\n",
       "    <tr>\n",
       "      <th>998</th>\n",
       "      <td>0.95</td>\n",
       "      <td>0.998047</td>\n",
       "      <td>[[1, 1, 1, 1, 1, 1, 1, 1, 1, 1, 1, 1, 1, 1, 1,...</td>\n",
       "      <td>0</td>\n",
       "    </tr>\n",
       "    <tr>\n",
       "      <th>999</th>\n",
       "      <td>0.95</td>\n",
       "      <td>0.996094</td>\n",
       "      <td>[[1, 1, 1, 1, 1, 1, 1, 1, 1, 1, 1, 1, 1, 1, 1,...</td>\n",
       "      <td>0</td>\n",
       "    </tr>\n",
       "  </tbody>\n",
       "</table>\n",
       "<p>1000 rows × 4 columns</p>\n",
       "</div>"
      ],
      "text/plain": [
       "     Beta  Magnetization                                            Lattice  \\\n",
       "0    0.05      -0.021484  [[1, -1, -1, -1, -1, -1, -1, -1, -1, -1, -1, 1...   \n",
       "1    0.05      -0.033203  [[1, -1, -1, -1, -1, -1, -1, -1, -1, -1, -1, 1...   \n",
       "2    0.05       0.000000  [[1, -1, -1, -1, -1, -1, -1, -1, -1, -1, -1, 1...   \n",
       "3    0.05      -0.021484  [[1, -1, -1, -1, -1, -1, -1, -1, -1, -1, -1, 1...   \n",
       "4    0.05       0.041016  [[1, -1, -1, -1, -1, -1, -1, -1, -1, -1, -1, 1...   \n",
       "..    ...            ...                                                ...   \n",
       "995  0.95       0.996094  [[1, 1, 1, 1, 1, 1, 1, 1, 1, 1, 1, 1, 1, 1, 1,...   \n",
       "996  0.95       1.000000  [[1, 1, 1, 1, 1, 1, 1, 1, 1, 1, 1, 1, 1, 1, 1,...   \n",
       "997  0.95       0.994141  [[1, 1, 1, 1, 1, 1, 1, 1, 1, 1, 1, 1, 1, 1, 1,...   \n",
       "998  0.95       0.998047  [[1, 1, 1, 1, 1, 1, 1, 1, 1, 1, 1, 1, 1, 1, 1,...   \n",
       "999  0.95       0.996094  [[1, 1, 1, 1, 1, 1, 1, 1, 1, 1, 1, 1, 1, 1, 1,...   \n",
       "\n",
       "     Label  \n",
       "0        1  \n",
       "1        1  \n",
       "2        1  \n",
       "3        1  \n",
       "4        1  \n",
       "..     ...  \n",
       "995      0  \n",
       "996      0  \n",
       "997      0  \n",
       "998      0  \n",
       "999      0  \n",
       "\n",
       "[1000 rows x 4 columns]"
      ]
     },
     "execution_count": 270,
     "metadata": {},
     "output_type": "execute_result"
    }
   ],
   "source": [
    "dataset"
   ]
  },
  {
   "cell_type": "code",
   "execution_count": 271,
   "metadata": {},
   "outputs": [],
   "source": [
    "'''\n",
    "データセットから訓練データとテストデータを作成\n",
    "テストデータは，各betaにつき一つずつ取り出します\n",
    "'''\n",
    "columns = ['Beta', 'Magnetization', 'Lattice' , 'Label']\n",
    "# 新しいDataFrameを作成するための空のリストを用意する\n",
    "new_data = []\n",
    "\n",
    "b_len = len(dataset['Beta'])\n",
    "\n",
    "# 上から100番目ずつの行を抽出してリストに追加する\n",
    "for i in range(0, b_len, 100):\n",
    "    new_data.append(dataset.iloc[i])\n",
    "\n",
    "# リストをDataFrameに変換する\n",
    "test_dataset = pd.DataFrame(new_data, columns=columns)"
   ]
  },
  {
   "cell_type": "code",
   "execution_count": 272,
   "metadata": {},
   "outputs": [
    {
     "data": {
      "text/html": [
       "<div>\n",
       "<style scoped>\n",
       "    .dataframe tbody tr th:only-of-type {\n",
       "        vertical-align: middle;\n",
       "    }\n",
       "\n",
       "    .dataframe tbody tr th {\n",
       "        vertical-align: top;\n",
       "    }\n",
       "\n",
       "    .dataframe thead th {\n",
       "        text-align: right;\n",
       "    }\n",
       "</style>\n",
       "<table border=\"1\" class=\"dataframe\">\n",
       "  <thead>\n",
       "    <tr style=\"text-align: right;\">\n",
       "      <th></th>\n",
       "      <th>Beta</th>\n",
       "      <th>Magnetization</th>\n",
       "      <th>Lattice</th>\n",
       "      <th>Label</th>\n",
       "    </tr>\n",
       "  </thead>\n",
       "  <tbody>\n",
       "    <tr>\n",
       "      <th>0</th>\n",
       "      <td>0.05</td>\n",
       "      <td>-0.021484</td>\n",
       "      <td>[[1, -1, -1, -1, -1, -1, -1, -1, -1, -1, -1, 1...</td>\n",
       "      <td>1</td>\n",
       "    </tr>\n",
       "    <tr>\n",
       "      <th>100</th>\n",
       "      <td>0.15</td>\n",
       "      <td>-0.058594</td>\n",
       "      <td>[[1, -1, 1, -1, 1, -1, -1, -1, 1, -1, -1, -1, ...</td>\n",
       "      <td>1</td>\n",
       "    </tr>\n",
       "    <tr>\n",
       "      <th>200</th>\n",
       "      <td>0.25</td>\n",
       "      <td>-0.054688</td>\n",
       "      <td>[[-1, -1, -1, 1, 1, -1, -1, -1, -1, 1, 1, 1, -...</td>\n",
       "      <td>1</td>\n",
       "    </tr>\n",
       "    <tr>\n",
       "      <th>300</th>\n",
       "      <td>0.35</td>\n",
       "      <td>0.193359</td>\n",
       "      <td>[[1, 1, 1, 1, 1, 1, -1, -1, 1, -1, 1, -1, -1, ...</td>\n",
       "      <td>1</td>\n",
       "    </tr>\n",
       "    <tr>\n",
       "      <th>400</th>\n",
       "      <td>0.45</td>\n",
       "      <td>0.648438</td>\n",
       "      <td>[[1, 1, 1, 1, 1, 1, 1, 1, 1, -1, 1, 1, 1, 1, 1...</td>\n",
       "      <td>0</td>\n",
       "    </tr>\n",
       "    <tr>\n",
       "      <th>500</th>\n",
       "      <td>0.55</td>\n",
       "      <td>0.900391</td>\n",
       "      <td>[[1, 1, 1, 1, 1, 1, 1, 1, 1, 1, 1, 1, 1, 1, 1,...</td>\n",
       "      <td>0</td>\n",
       "    </tr>\n",
       "    <tr>\n",
       "      <th>600</th>\n",
       "      <td>0.65</td>\n",
       "      <td>0.982422</td>\n",
       "      <td>[[1, 1, 1, 1, 1, 1, 1, 1, 1, 1, 1, 1, 1, 1, 1,...</td>\n",
       "      <td>0</td>\n",
       "    </tr>\n",
       "    <tr>\n",
       "      <th>700</th>\n",
       "      <td>0.75</td>\n",
       "      <td>0.998047</td>\n",
       "      <td>[[1, 1, -1, 1, 1, 1, 1, 1, 1, 1, 1, 1, 1, 1, 1...</td>\n",
       "      <td>0</td>\n",
       "    </tr>\n",
       "    <tr>\n",
       "      <th>800</th>\n",
       "      <td>0.85</td>\n",
       "      <td>0.994141</td>\n",
       "      <td>[[1, 1, 1, 1, 1, 1, 1, 1, 1, 1, 1, 1, 1, 1, 1,...</td>\n",
       "      <td>0</td>\n",
       "    </tr>\n",
       "    <tr>\n",
       "      <th>900</th>\n",
       "      <td>0.95</td>\n",
       "      <td>1.000000</td>\n",
       "      <td>[[1, 1, 1, 1, 1, 1, 1, 1, 1, 1, 1, 1, 1, 1, 1,...</td>\n",
       "      <td>0</td>\n",
       "    </tr>\n",
       "  </tbody>\n",
       "</table>\n",
       "</div>"
      ],
      "text/plain": [
       "     Beta  Magnetization                                            Lattice  \\\n",
       "0    0.05      -0.021484  [[1, -1, -1, -1, -1, -1, -1, -1, -1, -1, -1, 1...   \n",
       "100  0.15      -0.058594  [[1, -1, 1, -1, 1, -1, -1, -1, 1, -1, -1, -1, ...   \n",
       "200  0.25      -0.054688  [[-1, -1, -1, 1, 1, -1, -1, -1, -1, 1, 1, 1, -...   \n",
       "300  0.35       0.193359  [[1, 1, 1, 1, 1, 1, -1, -1, 1, -1, 1, -1, -1, ...   \n",
       "400  0.45       0.648438  [[1, 1, 1, 1, 1, 1, 1, 1, 1, -1, 1, 1, 1, 1, 1...   \n",
       "500  0.55       0.900391  [[1, 1, 1, 1, 1, 1, 1, 1, 1, 1, 1, 1, 1, 1, 1,...   \n",
       "600  0.65       0.982422  [[1, 1, 1, 1, 1, 1, 1, 1, 1, 1, 1, 1, 1, 1, 1,...   \n",
       "700  0.75       0.998047  [[1, 1, -1, 1, 1, 1, 1, 1, 1, 1, 1, 1, 1, 1, 1...   \n",
       "800  0.85       0.994141  [[1, 1, 1, 1, 1, 1, 1, 1, 1, 1, 1, 1, 1, 1, 1,...   \n",
       "900  0.95       1.000000  [[1, 1, 1, 1, 1, 1, 1, 1, 1, 1, 1, 1, 1, 1, 1,...   \n",
       "\n",
       "     Label  \n",
       "0        1  \n",
       "100      1  \n",
       "200      1  \n",
       "300      1  \n",
       "400      0  \n",
       "500      0  \n",
       "600      0  \n",
       "700      0  \n",
       "800      0  \n",
       "900      0  "
      ]
     },
     "execution_count": 272,
     "metadata": {},
     "output_type": "execute_result"
    }
   ],
   "source": [
    "test_dataset"
   ]
  },
  {
   "cell_type": "code",
   "execution_count": 273,
   "metadata": {},
   "outputs": [],
   "source": [
    "train_dataset = dataset.drop(test_dataset.index)"
   ]
  },
  {
   "cell_type": "code",
   "execution_count": 274,
   "metadata": {},
   "outputs": [
    {
     "data": {
      "text/html": [
       "<div>\n",
       "<style scoped>\n",
       "    .dataframe tbody tr th:only-of-type {\n",
       "        vertical-align: middle;\n",
       "    }\n",
       "\n",
       "    .dataframe tbody tr th {\n",
       "        vertical-align: top;\n",
       "    }\n",
       "\n",
       "    .dataframe thead th {\n",
       "        text-align: right;\n",
       "    }\n",
       "</style>\n",
       "<table border=\"1\" class=\"dataframe\">\n",
       "  <thead>\n",
       "    <tr style=\"text-align: right;\">\n",
       "      <th></th>\n",
       "      <th>Beta</th>\n",
       "      <th>Magnetization</th>\n",
       "      <th>Lattice</th>\n",
       "      <th>Label</th>\n",
       "    </tr>\n",
       "  </thead>\n",
       "  <tbody>\n",
       "    <tr>\n",
       "      <th>1</th>\n",
       "      <td>0.05</td>\n",
       "      <td>-0.033203</td>\n",
       "      <td>[[1, -1, -1, -1, -1, -1, -1, -1, -1, -1, -1, 1...</td>\n",
       "      <td>1</td>\n",
       "    </tr>\n",
       "    <tr>\n",
       "      <th>2</th>\n",
       "      <td>0.05</td>\n",
       "      <td>0.000000</td>\n",
       "      <td>[[1, -1, -1, -1, -1, -1, -1, -1, -1, -1, -1, 1...</td>\n",
       "      <td>1</td>\n",
       "    </tr>\n",
       "    <tr>\n",
       "      <th>3</th>\n",
       "      <td>0.05</td>\n",
       "      <td>-0.021484</td>\n",
       "      <td>[[1, -1, -1, -1, -1, -1, -1, -1, -1, -1, -1, 1...</td>\n",
       "      <td>1</td>\n",
       "    </tr>\n",
       "    <tr>\n",
       "      <th>4</th>\n",
       "      <td>0.05</td>\n",
       "      <td>0.041016</td>\n",
       "      <td>[[1, -1, -1, -1, -1, -1, -1, -1, -1, -1, -1, 1...</td>\n",
       "      <td>1</td>\n",
       "    </tr>\n",
       "    <tr>\n",
       "      <th>5</th>\n",
       "      <td>0.05</td>\n",
       "      <td>0.007812</td>\n",
       "      <td>[[1, -1, -1, -1, -1, -1, -1, -1, -1, -1, -1, 1...</td>\n",
       "      <td>1</td>\n",
       "    </tr>\n",
       "    <tr>\n",
       "      <th>...</th>\n",
       "      <td>...</td>\n",
       "      <td>...</td>\n",
       "      <td>...</td>\n",
       "      <td>...</td>\n",
       "    </tr>\n",
       "    <tr>\n",
       "      <th>995</th>\n",
       "      <td>0.95</td>\n",
       "      <td>0.996094</td>\n",
       "      <td>[[1, 1, 1, 1, 1, 1, 1, 1, 1, 1, 1, 1, 1, 1, 1,...</td>\n",
       "      <td>0</td>\n",
       "    </tr>\n",
       "    <tr>\n",
       "      <th>996</th>\n",
       "      <td>0.95</td>\n",
       "      <td>1.000000</td>\n",
       "      <td>[[1, 1, 1, 1, 1, 1, 1, 1, 1, 1, 1, 1, 1, 1, 1,...</td>\n",
       "      <td>0</td>\n",
       "    </tr>\n",
       "    <tr>\n",
       "      <th>997</th>\n",
       "      <td>0.95</td>\n",
       "      <td>0.994141</td>\n",
       "      <td>[[1, 1, 1, 1, 1, 1, 1, 1, 1, 1, 1, 1, 1, 1, 1,...</td>\n",
       "      <td>0</td>\n",
       "    </tr>\n",
       "    <tr>\n",
       "      <th>998</th>\n",
       "      <td>0.95</td>\n",
       "      <td>0.998047</td>\n",
       "      <td>[[1, 1, 1, 1, 1, 1, 1, 1, 1, 1, 1, 1, 1, 1, 1,...</td>\n",
       "      <td>0</td>\n",
       "    </tr>\n",
       "    <tr>\n",
       "      <th>999</th>\n",
       "      <td>0.95</td>\n",
       "      <td>0.996094</td>\n",
       "      <td>[[1, 1, 1, 1, 1, 1, 1, 1, 1, 1, 1, 1, 1, 1, 1,...</td>\n",
       "      <td>0</td>\n",
       "    </tr>\n",
       "  </tbody>\n",
       "</table>\n",
       "<p>990 rows × 4 columns</p>\n",
       "</div>"
      ],
      "text/plain": [
       "     Beta  Magnetization                                            Lattice  \\\n",
       "1    0.05      -0.033203  [[1, -1, -1, -1, -1, -1, -1, -1, -1, -1, -1, 1...   \n",
       "2    0.05       0.000000  [[1, -1, -1, -1, -1, -1, -1, -1, -1, -1, -1, 1...   \n",
       "3    0.05      -0.021484  [[1, -1, -1, -1, -1, -1, -1, -1, -1, -1, -1, 1...   \n",
       "4    0.05       0.041016  [[1, -1, -1, -1, -1, -1, -1, -1, -1, -1, -1, 1...   \n",
       "5    0.05       0.007812  [[1, -1, -1, -1, -1, -1, -1, -1, -1, -1, -1, 1...   \n",
       "..    ...            ...                                                ...   \n",
       "995  0.95       0.996094  [[1, 1, 1, 1, 1, 1, 1, 1, 1, 1, 1, 1, 1, 1, 1,...   \n",
       "996  0.95       1.000000  [[1, 1, 1, 1, 1, 1, 1, 1, 1, 1, 1, 1, 1, 1, 1,...   \n",
       "997  0.95       0.994141  [[1, 1, 1, 1, 1, 1, 1, 1, 1, 1, 1, 1, 1, 1, 1,...   \n",
       "998  0.95       0.998047  [[1, 1, 1, 1, 1, 1, 1, 1, 1, 1, 1, 1, 1, 1, 1,...   \n",
       "999  0.95       0.996094  [[1, 1, 1, 1, 1, 1, 1, 1, 1, 1, 1, 1, 1, 1, 1,...   \n",
       "\n",
       "     Label  \n",
       "1        1  \n",
       "2        1  \n",
       "3        1  \n",
       "4        1  \n",
       "5        1  \n",
       "..     ...  \n",
       "995      0  \n",
       "996      0  \n",
       "997      0  \n",
       "998      0  \n",
       "999      0  \n",
       "\n",
       "[990 rows x 4 columns]"
      ]
     },
     "execution_count": 274,
     "metadata": {},
     "output_type": "execute_result"
    }
   ],
   "source": [
    "train_dataset"
   ]
  },
  {
   "cell_type": "code",
   "execution_count": 275,
   "metadata": {},
   "outputs": [],
   "source": [
    "X_train = np.array(train_dataset['Lattice'].tolist())\n",
    "y_train = np.array(train_dataset['Label'].tolist())\n",
    "X_test = np.array(test_dataset['Lattice'].tolist())\n",
    "y_test = np.array(test_dataset['Label'].tolist())"
   ]
  },
  {
   "cell_type": "code",
   "execution_count": 276,
   "metadata": {},
   "outputs": [
    {
     "name": "stdout",
     "output_type": "stream",
     "text": [
      "X_train.shape: (990, 32, 32)\n",
      "y_train.shape: (990,)\n",
      "X_test.shape: (10, 32, 32)\n",
      "y_test.shape: (10,)\n"
     ]
    }
   ],
   "source": [
    "print('X_train.shape:', X_train.shape)\n",
    "print('y_train.shape:', y_train.shape)\n",
    "print('X_test.shape:', X_test.shape)\n",
    "print('y_test.shape:', y_test.shape)"
   ]
  },
  {
   "cell_type": "code",
   "execution_count": 277,
   "metadata": {},
   "outputs": [
    {
     "name": "stdout",
     "output_type": "stream",
     "text": [
      "new_X_train.shape: (990, 1024)\n",
      "new_X_test.shape: (10, 1024)\n"
     ]
    }
   ],
   "source": [
    "# 変形後の配列の形状を定義する\n",
    "new_shape1 = (X_train.shape[0], X_train.shape[1] * X_train.shape[2])\n",
    "new_shape2 = (X_test.shape[0], X_train.shape[1] * X_train.shape[2])\n",
    "\n",
    "# 配列を変形する\n",
    "new_X_train = X_train.reshape(new_shape1)\n",
    "new_X_test = X_test.reshape(new_shape2)\n",
    "\n",
    "print('new_X_train.shape:', new_X_train.shape)\n",
    "print('new_X_test.shape:', new_X_test.shape)"
   ]
  },
  {
   "cell_type": "code",
   "execution_count": 278,
   "metadata": {},
   "outputs": [
    {
     "data": {
      "text/html": [
       "<style>#sk-container-id-14 {color: black;background-color: white;}#sk-container-id-14 pre{padding: 0;}#sk-container-id-14 div.sk-toggleable {background-color: white;}#sk-container-id-14 label.sk-toggleable__label {cursor: pointer;display: block;width: 100%;margin-bottom: 0;padding: 0.3em;box-sizing: border-box;text-align: center;}#sk-container-id-14 label.sk-toggleable__label-arrow:before {content: \"▸\";float: left;margin-right: 0.25em;color: #696969;}#sk-container-id-14 label.sk-toggleable__label-arrow:hover:before {color: black;}#sk-container-id-14 div.sk-estimator:hover label.sk-toggleable__label-arrow:before {color: black;}#sk-container-id-14 div.sk-toggleable__content {max-height: 0;max-width: 0;overflow: hidden;text-align: left;background-color: #f0f8ff;}#sk-container-id-14 div.sk-toggleable__content pre {margin: 0.2em;color: black;border-radius: 0.25em;background-color: #f0f8ff;}#sk-container-id-14 input.sk-toggleable__control:checked~div.sk-toggleable__content {max-height: 200px;max-width: 100%;overflow: auto;}#sk-container-id-14 input.sk-toggleable__control:checked~label.sk-toggleable__label-arrow:before {content: \"▾\";}#sk-container-id-14 div.sk-estimator input.sk-toggleable__control:checked~label.sk-toggleable__label {background-color: #d4ebff;}#sk-container-id-14 div.sk-label input.sk-toggleable__control:checked~label.sk-toggleable__label {background-color: #d4ebff;}#sk-container-id-14 input.sk-hidden--visually {border: 0;clip: rect(1px 1px 1px 1px);clip: rect(1px, 1px, 1px, 1px);height: 1px;margin: -1px;overflow: hidden;padding: 0;position: absolute;width: 1px;}#sk-container-id-14 div.sk-estimator {font-family: monospace;background-color: #f0f8ff;border: 1px dotted black;border-radius: 0.25em;box-sizing: border-box;margin-bottom: 0.5em;}#sk-container-id-14 div.sk-estimator:hover {background-color: #d4ebff;}#sk-container-id-14 div.sk-parallel-item::after {content: \"\";width: 100%;border-bottom: 1px solid gray;flex-grow: 1;}#sk-container-id-14 div.sk-label:hover label.sk-toggleable__label {background-color: #d4ebff;}#sk-container-id-14 div.sk-serial::before {content: \"\";position: absolute;border-left: 1px solid gray;box-sizing: border-box;top: 0;bottom: 0;left: 50%;z-index: 0;}#sk-container-id-14 div.sk-serial {display: flex;flex-direction: column;align-items: center;background-color: white;padding-right: 0.2em;padding-left: 0.2em;position: relative;}#sk-container-id-14 div.sk-item {position: relative;z-index: 1;}#sk-container-id-14 div.sk-parallel {display: flex;align-items: stretch;justify-content: center;background-color: white;position: relative;}#sk-container-id-14 div.sk-item::before, #sk-container-id-14 div.sk-parallel-item::before {content: \"\";position: absolute;border-left: 1px solid gray;box-sizing: border-box;top: 0;bottom: 0;left: 50%;z-index: -1;}#sk-container-id-14 div.sk-parallel-item {display: flex;flex-direction: column;z-index: 1;position: relative;background-color: white;}#sk-container-id-14 div.sk-parallel-item:first-child::after {align-self: flex-end;width: 50%;}#sk-container-id-14 div.sk-parallel-item:last-child::after {align-self: flex-start;width: 50%;}#sk-container-id-14 div.sk-parallel-item:only-child::after {width: 0;}#sk-container-id-14 div.sk-dashed-wrapped {border: 1px dashed gray;margin: 0 0.4em 0.5em 0.4em;box-sizing: border-box;padding-bottom: 0.4em;background-color: white;}#sk-container-id-14 div.sk-label label {font-family: monospace;font-weight: bold;display: inline-block;line-height: 1.2em;}#sk-container-id-14 div.sk-label-container {text-align: center;}#sk-container-id-14 div.sk-container {/* jupyter's `normalize.less` sets `[hidden] { display: none; }` but bootstrap.min.css set `[hidden] { display: none !important; }` so we also need the `!important` here to be able to override the default hidden behavior on the sphinx rendered scikit-learn.org. See: https://github.com/scikit-learn/scikit-learn/issues/21755 */display: inline-block !important;position: relative;}#sk-container-id-14 div.sk-text-repr-fallback {display: none;}</style><div id=\"sk-container-id-14\" class=\"sk-top-container\"><div class=\"sk-text-repr-fallback\"><pre>MLPClassifier()</pre><b>In a Jupyter environment, please rerun this cell to show the HTML representation or trust the notebook. <br />On GitHub, the HTML representation is unable to render, please try loading this page with nbviewer.org.</b></div><div class=\"sk-container\" hidden><div class=\"sk-item\"><div class=\"sk-estimator sk-toggleable\"><input class=\"sk-toggleable__control sk-hidden--visually\" id=\"sk-estimator-id-14\" type=\"checkbox\" checked><label for=\"sk-estimator-id-14\" class=\"sk-toggleable__label sk-toggleable__label-arrow\">MLPClassifier</label><div class=\"sk-toggleable__content\"><pre>MLPClassifier()</pre></div></div></div></div></div>"
      ],
      "text/plain": [
       "MLPClassifier()"
      ]
     },
     "execution_count": 278,
     "metadata": {},
     "output_type": "execute_result"
    }
   ],
   "source": [
    "# ニューラルネットワークモデルの構築と学習\n",
    "model = MLPClassifier(hidden_layer_sizes=(100,), activation='relu', solver='adam')\n",
    "model.fit(new_X_train, y_train)"
   ]
  },
  {
   "cell_type": "code",
   "execution_count": 279,
   "metadata": {},
   "outputs": [],
   "source": [
    "# テストデータにおける予測値の取得\n",
    "predictions = model.predict(new_X_test)"
   ]
  },
  {
   "cell_type": "code",
   "execution_count": 280,
   "metadata": {},
   "outputs": [
    {
     "data": {
      "text/plain": [
       "array([1, 1, 1, 1, 0, 0, 0, 0, 0, 0])"
      ]
     },
     "execution_count": 280,
     "metadata": {},
     "output_type": "execute_result"
    }
   ],
   "source": [
    "predictions"
   ]
  },
  {
   "cell_type": "code",
   "execution_count": 281,
   "metadata": {},
   "outputs": [],
   "source": [
    "no_predictions = 1 - predictions"
   ]
  },
  {
   "cell_type": "code",
   "execution_count": 282,
   "metadata": {},
   "outputs": [],
   "source": [
    "beta_values = np.arange(0.05, 1.05, 0.1)"
   ]
  },
  {
   "cell_type": "code",
   "execution_count": 283,
   "metadata": {},
   "outputs": [
    {
     "data": {
      "image/png": "[encoded data removed]",
      "text/plain": [
       "<Figure size 640x480 with 1 Axes>"
      ]
     },
     "metadata": {},
     "output_type": "display_data"
    }
   ],
   "source": [
    "# プロット\n",
    "plt.plot(beta_values, predictions, 'o-')\n",
    "plt.plot(beta_values, no_predictions, 'o-')\n",
    "plt.xlabel('Beta')\n",
    "plt.ylabel('Prediction Probability')\n",
    "plt.title('Prediction Probability vs. Beta for Test Data')\n",
    "plt.grid(True)\n",
    "plt.show()"
   ]
  }
 ],
 "metadata": {
  "kernelspec": {
   "display_name": "base",
   "language": "python",
   "name": "python3"
  },
  "language_info": {
   "codemirror_mode": {
    "name": "ipython",
    "version": 3
   },
   "file_extension": ".py",
   "mimetype": "text/x-python",
   "name": "python",
   "nbconvert_exporter": "python",
   "pygments_lexer": "ipython3",
   "version": "3.10.9"
  },
  "orig_nbformat": 4
 },
 "nbformat": 4,
 "nbformat_minor": 2
}
