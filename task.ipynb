{
 "cells": [
  {
   "attachments": {},
   "cell_type": "markdown",
   "metadata": {},
   "source": [
    "# 金融論：中間課題\n",
    "#### 学籍番号：20S1066\n",
    "#### 氏名：坂西　和也"
   ]
  },
  {
   "attachments": {},
   "cell_type": "markdown",
   "metadata": {},
   "source": [
    "## 選択課題：④\n",
    "### 各係数の定義\n",
    "一般に利子率：$r$，年数：$T$とすると係数表の各係数は以下のように定義される．\n",
    "#### 将来価値係数\n",
    "$$\n",
    "F = (1+r)^T\n",
    "$$\n",
    "\n",
    "#### 現在価値係数\n",
    "$$\n",
    "P = \\frac{1}{(1+r)^T}\n",
    "$$\n",
    "\n",
    "#### 資本回収係数\n",
    "$$\n",
    "R = \\frac{r(1+r)^T}{(1+r)^T-1}\n",
    "$$\n",
    "\n",
    "#### 年金係数\n",
    "$$\n",
    "A = \\frac{1-(1+r)^{-T}}{r}\n",
    "$$\n",
    "\n",
    "#### 年金現価係数\n",
    "$$\n",
    "P_A = \\frac{1-(1+r)^{-T}}{r(1+r)^T}\n",
    "$$\n"
   ]
  },
  {
   "attachments": {},
   "cell_type": "markdown",
   "metadata": {},
   "source": [
    "### 参考文献\n",
    "講義配布資料\n",
    "\n",
    "新世社『テキスト金融論　第2版』（第2版2022：堀江康熙，有岡律子，森祐司著）\n",
    "\n",
    "\n",
    "\n",
    "## 選択課題：講演会への出席"
   ]
  },
  {
   "attachments": {},
   "cell_type": "markdown",
   "metadata": {},
   "source": []
  }
 ],
 "metadata": {
  "kernelspec": {
   "display_name": "base",
   "language": "python",
   "name": "python3"
  },
  "language_info": {
   "codemirror_mode": {
    "name": "ipython",
    "version": 3
   },
   "file_extension": ".py",
   "mimetype": "text/x-python",
   "name": "python",
   "nbconvert_exporter": "python",
   "pygments_lexer": "ipython3",
   "version": "3.10.11"
  },
  "orig_nbformat": 4
 },
 "nbformat": 4,
 "nbformat_minor": 2
}
