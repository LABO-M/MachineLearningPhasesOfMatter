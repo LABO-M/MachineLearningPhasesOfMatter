{
 "cells": [
  {
   "attachments": {},
   "cell_type": "markdown",
   "metadata": {},
   "source": [
    "# 『Machine learning phases of matter』を理解したい_1\n",
    "## 原著論文について\n",
    "\n",
    "https://arxiv.org/abs/1605.01735\n",
    "\n",
    "### Abstract\n",
    "\n",
    "Neural networks can be used to identify phases and phase transitions in condensed matter systems via supervised machine learning.\n",
    "\n",
    "Readily programmable through modern software libraries, we show that a standard feed-forward neural network can be trained to detect multiple types of order parameter directly from raw state configurations sampled with Monte Carlo. \n",
    "\n",
    "In addition, they can detect highly non-trivial states such as Coulomb phases, and if modified to a convolutional neural network, topological phases with no conventional order parameter. \n",
    "\n",
    "We show that this classification occurs within the neural network without knowledge of the Hamiltonian or even the general locality of interactions. \n",
    "\n",
    "These results demonstrate the power of machine learning as a basic research tool in the field of condensed matter and statistical physics.\n",
    "\n",
    "\n",
    "ニューラルネットワークは、教師ありの機械学習によって、凝縮系における相や相転移を特定するために使用することができます。\n",
    "\n",
    "最新のソフトウェアライブラリで容易にプログラム可能です、 \n",
    "\n",
    "標準的なフィードフォワードニューラルネットワークを学習させることで、モンテカルロ法でサンプリングした生の状態構成から直接、複数種類のオーダーパラメータを検出できることを示すものです。\n",
    "\n",
    "また、畳み込みニューラルネットワークに変更することで、従来の秩序変数のないトポロジカル相を検出することができます。\n",
    "\n",
    "この分類は、ハミルトニアンや相互作用の一般的な局所性さえも知ることなく、ニューラルネットワーク内で行われることを示す。これらの結果は、物性物理学および統計物理学の分野における基礎研究ツールとして、機械学習の威力を示すものである。\n"
   ]
  },
  {
   "attachments": {},
   "cell_type": "markdown",
   "metadata": {},
   "source": [
    "## 『これならわかる機械学習入門』\n",
    "\n",
    "https://www.amazon.co.jp/%E3%81%93%E3%82%8C%E3%81%AA%E3%82%89%E3%82%8F%E3%81%8B%E3%82%8B%E6%A9%9F%E6%A2%B0%E5%AD%A6%E7%BF%92%E5%85%A5%E9%96%80-KS%E7%89%A9%E7%90%86%E5%B0%82%E9%96%80%E6%9B%B8-%E5%AF%8C%E8%B0%B7-%E6%98%AD%E5%A4%AB/dp/4065225493\n",
    "\n",
    "この教科書は，『Machine learning phases of matter』の前半部分を理解するために機械学習の入門的な内容を優しく扱った本です．\n",
    "\n",
    "まずはこの本の実装を忠実に再現し，論文理解への橋渡しをします．\n"
   ]
  },
  {
   "attachments": {},
   "cell_type": "markdown",
   "metadata": {},
   "source": []
  },
  {
   "attachments": {},
   "cell_type": "markdown",
   "metadata": {},
   "source": []
  }
 ],
 "metadata": {
  "language_info": {
   "name": "python"
  },
  "orig_nbformat": 4
 },
 "nbformat": 4,
 "nbformat_minor": 2
}
