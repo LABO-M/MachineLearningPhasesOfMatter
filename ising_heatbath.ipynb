{
 "cells": [
  {
   "attachments": {},
   "cell_type": "markdown",
   "metadata": {},
   "source": [
    "# 『Machine learning phases of matter』を理解したい_1\n",
    "## 原著論文について\n",
    "\n",
    "https://arxiv.org/abs/1605.01735\n",
    "\n",
    "### Abstract\n",
    "\n",
    "Neural networks can be used to identify phases and phase transitions in condensed matter systems via supervised machine learning.\n",
    "\n",
    "Readily programmable through modern software libraries, we show that a standard feed-forward neural network can be trained to detect multiple types of order parameter directly from raw state configurations sampled with Monte Carlo. \n",
    "\n",
    "In addition, they can detect highly non-trivial states such as Coulomb phases, and if modified to a convolutional neural network, topological phases with no conventional order parameter. \n",
    "\n",
    "We show that this classification occurs within the neural network without knowledge of the Hamiltonian or even the general locality of interactions. \n",
    "\n",
    "These results demonstrate the power of machine learning as a basic research tool in the field of condensed matter and statistical physics.\n",
    "\n",
    "\n",
    "ニューラルネットワークは、教師ありの機械学習によって、凝縮系における相や相転移を特定するために使用することができます。\n",
    "\n",
    "最新のソフトウェアライブラリで容易にプログラム可能です、 \n",
    "\n",
    "標準的なフィードフォワードニューラルネットワークを学習させることで、モンテカルロ法でサンプリングした生の状態構成から直接、複数種類のオーダーパラメータを検出できることを示すものです。\n",
    "\n",
    "また、畳み込みニューラルネットワークに変更することで、従来の秩序変数のないトポロジカル相を検出することができます。\n",
    "\n",
    "この分類は、ハミルトニアンや相互作用の一般的な局所性さえも知ることなく、ニューラルネットワーク内で行われることを示す。これらの結果は、物性物理学および統計物理学の分野における基礎研究ツールとして、機械学習の威力を示すものである。\n"
   ]
  },
  {
   "attachments": {},
   "cell_type": "markdown",
   "metadata": {},
   "source": [
    "## 導入\n",
    "簡単な平衡統計物理学の理解をしましょう．\n",
    "\n",
    "### 2粒子系\n",
    "\n",
    "ハミルトニアンが与えられたとき，その系の状態は以下のようなボルツマン分布に従います．\n",
    "$$\n",
    "P[C] = \\frac{1}{Z} e^{-\\beta E[C]}\n",
    "$$\n",
    "\n",
    "具体的にハミルトニアンを以下のように設定します．$s_i = \\{ -1 , + 1 \\}$として\n",
    "$$\n",
    "E[C] = -J s_1 s_2 -h (s_1 + s_2)\n",
    "$$\n",
    "\n",
    "$h$は外部磁場，$J$ は相互作用の強さを表します．"
   ]
  },
  {
   "attachments": {},
   "cell_type": "markdown",
   "metadata": {},
   "source": [
    "$s_1 , s_2$の組み合わせは$2^2$通りあり，それぞれにボルツマン分布に従った確率が定義されます．\n",
    "$$\n",
    "P[C] = \\frac{1}{Z} e^{-\\beta \\{ -J s_1 s_2 -h (s_1 + s_2)\\}}\n",
    "$$"
   ]
  },
  {
   "attachments": {},
   "cell_type": "markdown",
   "metadata": {},
   "source": [
    "ここで知りたいのは，『磁石としての強さ』です．\n",
    "$$\n",
    "m[C] = \\frac{1}{2} \\sum_i s_i\n",
    "$$\n",
    "\n",
    "この磁化率も確率変数です．\n",
    "\n",
    "期待値は\n",
    "$$\n",
    "\\langle m \\rangle = \\sum_C m[C] P[C]\n",
    "$$\n",
    "\n",
    "これを計算すると\n",
    "$$\n",
    "\\langle m \\rangle = \\frac{1}{Z} \\sum_C m[C] e^{-\\beta E[C]}\n",
    "$$\n",
    "\n",
    "となります．\n",
    "\n",
    "以上のことを実際に実装してみましょう．"
   ]
  },
  {
   "cell_type": "code",
   "execution_count": 104,
   "metadata": {},
   "outputs": [],
   "source": [
    "import numpy as np\n",
    "\n",
    "#k = 1.380649 * 10**(-23) # Boltzmann constant"
   ]
  },
  {
   "attachments": {},
   "cell_type": "markdown",
   "metadata": {},
   "source": [
    "$$\n",
    "E[C] = -J s_1 s_2 -h (s_1 + s_2)\n",
    "$$"
   ]
  },
  {
   "cell_type": "code",
   "execution_count": 105,
   "metadata": {},
   "outputs": [],
   "source": [
    "def test_hamiltonian(J , h , s):\n",
    "    s1 = s[0]\n",
    "    s2 = s[1]\n",
    "    return -J * s1 * s2 - h * (s1 + s2)"
   ]
  },
  {
   "attachments": {},
   "cell_type": "markdown",
   "metadata": {},
   "source": [
    "$$\n",
    "P[C] = \\frac{1}{Z} e^{-\\beta \\{ -J s_1 s_2 -h (s_1 + s_2)\\}}\n",
    "$$"
   ]
  },
  {
   "cell_type": "code",
   "execution_count": 106,
   "metadata": {},
   "outputs": [],
   "source": [
    "def test_boltzmann(J , h , s , T):\n",
    "    k = 1\n",
    "    s1 = s[0]\n",
    "    s2 = s[1]\n",
    "    beta = 1 / (k * T)\n",
    "    return np.exp(-beta * test_hamiltonian(J , h , s) )"
   ]
  },
  {
   "cell_type": "code",
   "execution_count": 107,
   "metadata": {},
   "outputs": [],
   "source": [
    "def test_partition(J , h , T):\n",
    "    k = 1\n",
    "    beta = 1 / (k * T) \n",
    "    return np.exp(beta * (J + 2 * h)) + np.exp(beta * (J - 2 * h)) + 2 * np.exp(-beta * J)"
   ]
  },
  {
   "cell_type": "code",
   "execution_count": 108,
   "metadata": {},
   "outputs": [],
   "source": [
    "def test_boltzmann_factor(J , h , s , T):\n",
    "    return test_boltzmann(J , h , s , T) / test_partition(J , h , T)"
   ]
  },
  {
   "cell_type": "code",
   "execution_count": 132,
   "metadata": {},
   "outputs": [
    {
     "data": {
      "text/plain": [
       "0.809775991523652"
      ]
     },
     "execution_count": 132,
     "metadata": {},
     "output_type": "execute_result"
    }
   ],
   "source": [
    "# パラメータ\n",
    "J = 1\n",
    "h = 0.5\n",
    "T = 1\n",
    "s1 = np.array([1 , 1])\n",
    "test_boltzmann_factor(J , h , s1 , T)"
   ]
  },
  {
   "cell_type": "code",
   "execution_count": 133,
   "metadata": {},
   "outputs": [
    {
     "data": {
      "text/plain": [
       "0.04031637265264287"
      ]
     },
     "execution_count": 133,
     "metadata": {},
     "output_type": "execute_result"
    }
   ],
   "source": [
    "s2 = np.array([1 , -1])\n",
    "test_boltzmann_factor(J , h , s2 , T)"
   ]
  },
  {
   "cell_type": "code",
   "execution_count": 134,
   "metadata": {},
   "outputs": [
    {
     "data": {
      "text/plain": [
       "0.10959126317106233"
      ]
     },
     "execution_count": 134,
     "metadata": {},
     "output_type": "execute_result"
    }
   ],
   "source": [
    "s3 = np.array([-1 , -1])\n",
    "test_boltzmann_factor(J , h , s3 , T)"
   ]
  },
  {
   "cell_type": "code",
   "execution_count": 119,
   "metadata": {},
   "outputs": [
    {
     "data": {
      "text/plain": [
       "0.9826383312758384"
      ]
     },
     "execution_count": 119,
     "metadata": {},
     "output_type": "execute_result"
    }
   ],
   "source": [
    "test_boltzmann_factor(J , h , s1 , T) + test_boltzmann_factor(J , h , s2 , T) + test_boltzmann_factor(J , h , s3 , T) # だいたい1になる"
   ]
  },
  {
   "attachments": {},
   "cell_type": "markdown",
   "metadata": {},
   "source": [
    "$$\n",
    "m[C] = \\frac{1}{2} \\sum_i s_i\n",
    "$$\n"
   ]
  },
  {
   "cell_type": "code",
   "execution_count": 135,
   "metadata": {},
   "outputs": [],
   "source": [
    "def test_magnetization(s):\n",
    "    return np.sum(s) / len(s)"
   ]
  },
  {
   "cell_type": "code",
   "execution_count": 137,
   "metadata": {},
   "outputs": [
    {
     "data": {
      "text/plain": [
       "(1.0, 0.0, -1.0)"
      ]
     },
     "execution_count": 137,
     "metadata": {},
     "output_type": "execute_result"
    }
   ],
   "source": [
    "test_magnetization(s1) , test_magnetization(s2) , test_magnetization(s3)"
   ]
  },
  {
   "attachments": {},
   "cell_type": "markdown",
   "metadata": {},
   "source": [
    "$$\n",
    "\\langle m \\rangle = \\sum_C m[C] P[C]\n",
    "$$\n",
    "つまり\n",
    "$$\n",
    "\\langle m \\rangle = \\frac{1}{Z} \\{ \\exp(\\beta(J+2h)) + \\exp(\\beta(J-2h)) \\}\n",
    "$$"
   ]
  },
  {
   "cell_type": "code",
   "execution_count": 139,
   "metadata": {},
   "outputs": [],
   "source": [
    "def test_magnetization_expectation(J , h , T):\n",
    "    beta = 1 / T\n",
    "    return (np.exp(beta *(J + 2*h)) + np.exp(beta * (J - 2*h)) ) / test_partition(J , h , T)"
   ]
  },
  {
   "cell_type": "code",
   "execution_count": 140,
   "metadata": {},
   "outputs": [
    {
     "data": {
      "text/plain": [
       "0.9193672546947144"
      ]
     },
     "execution_count": 140,
     "metadata": {},
     "output_type": "execute_result"
    }
   ],
   "source": [
    "test_magnetization_expectation(J , h , T)"
   ]
  },
  {
   "attachments": {},
   "cell_type": "markdown",
   "metadata": {},
   "source": [
    "磁化率の期待値に対して，パラメータを変化させたときの推移をグラフ化しましょう．"
   ]
  },
  {
   "cell_type": "code",
   "execution_count": 141,
   "metadata": {},
   "outputs": [],
   "source": [
    "import matplotlib.pyplot as plt"
   ]
  },
  {
   "attachments": {},
   "cell_type": "markdown",
   "metadata": {},
   "source": [
    "温度を変えてみる"
   ]
  },
  {
   "cell_type": "code",
   "execution_count": 151,
   "metadata": {},
   "outputs": [
    {
     "data": {
      "text/plain": [
       "[<matplotlib.lines.Line2D at 0x7f27ff5145b0>]"
      ]
     },
     "execution_count": 151,
     "metadata": {},
     "output_type": "execute_result"
    },
    {
     "data": {
      "image/png": "[encoded data removed]",
      "text/plain": [
       "<Figure size 640x480 with 1 Axes>"
      ]
     },
     "metadata": {},
     "output_type": "display_data"
    }
   ],
   "source": [
    "# J , h 固定\n",
    "# Tを変えてみる\n",
    "# パラメータ\n",
    "J = 1\n",
    "h = 0.01\n",
    "T = np.arange(1 , 300 , 5)\n",
    "magnetization_expectation = np.array([test_magnetization_expectation(J , h , t) for t in T])\n",
    "plt.plot(T , magnetization_expectation)"
   ]
  },
  {
   "attachments": {},
   "cell_type": "markdown",
   "metadata": {},
   "source": [
    "相互作用を変えてみる\n"
   ]
  },
  {
   "cell_type": "code",
   "execution_count": 153,
   "metadata": {},
   "outputs": [
    {
     "data": {
      "text/plain": [
       "[<matplotlib.lines.Line2D at 0x7f27ff5fb040>]"
      ]
     },
     "execution_count": 153,
     "metadata": {},
     "output_type": "execute_result"
    },
    {
     "data": {
      "image/png": "[encoded data removed]",
      "text/plain": [
       "<Figure size 640x480 with 1 Axes>"
      ]
     },
     "metadata": {},
     "output_type": "display_data"
    }
   ],
   "source": [
    "# h , T 固定\n",
    "# Jを変えてみる\n",
    "h = 0.01\n",
    "T = 1\n",
    "J = np.arange(-10 ,10 ,  0.5)\n",
    "magnetization_expectation = np.array([test_magnetization_expectation(j , h , T) for j in J])\n",
    "plt.plot(J , magnetization_expectation)"
   ]
  },
  {
   "attachments": {},
   "cell_type": "markdown",
   "metadata": {},
   "source": [
    "外部磁場を変えてみる"
   ]
  },
  {
   "cell_type": "code",
   "execution_count": 150,
   "metadata": {},
   "outputs": [
    {
     "data": {
      "text/plain": [
       "[<matplotlib.lines.Line2D at 0x7f27ff6a4ca0>]"
      ]
     },
     "execution_count": 150,
     "metadata": {},
     "output_type": "execute_result"
    },
    {
     "data": {
      "image/png": "[encoded data removed]",
      "text/plain": [
       "<Figure size 640x480 with 1 Axes>"
      ]
     },
     "metadata": {},
     "output_type": "display_data"
    }
   ],
   "source": [
    "# J , T 固定\n",
    "# hを変えてみる\n",
    "J = 1\n",
    "T = 1\n",
    "h = np.arange(-10 , 10 , 0.5)\n",
    "magnetization_expectation = np.array([test_magnetization_expectation(J , hh , T) for hh in h])\n",
    "plt.plot(h , magnetization_expectation)\n"
   ]
  },
  {
   "attachments": {},
   "cell_type": "markdown",
   "metadata": {},
   "source": [
    "### 1次元イジング模型\n",
    "$L$個の粒子からなる1次元イジング模型を考えます．\n",
    "$$\n",
    "E[C] = -J \\sum^{L-1}_{i=1} s_i s_{i+1} -h \\sum^{L}_{i=1} s_i\n",
    "$$\n",
    "平均場近似を用いると相転移の様子がわかる．\n",
    "\n",
    "具体的には以下の交点が解となる．\n",
    "$$\n",
    "y=m\\  ,\\  y = \\tanh(2\\beta m +\\beta h)\n",
    "$$\n",
    "\n",
    "ここでは横軸$m$，縦軸$y$として様々なパラメータの様子をプロットしてみる．"
   ]
  },
  {
   "cell_type": "code",
   "execution_count": 154,
   "metadata": {},
   "outputs": [
    {
     "data": {
      "text/plain": [
       "<matplotlib.legend.Legend at 0x7f27ff453cd0>"
      ]
     },
     "execution_count": 154,
     "metadata": {},
     "output_type": "execute_result"
    },
    {
     "data": {
      "image/png": "[encoded data removed]",
      "text/plain": [
       "<Figure size 640x480 with 1 Axes>"
      ]
     },
     "metadata": {},
     "output_type": "display_data"
    }
   ],
   "source": [
    "h = 0\n",
    "beta1 = 0.25\n",
    "beta2 = 1.5\n",
    "\n",
    "m = np.arange(-2.0 , 2.0 , 0.1)\n",
    "y1 = m\n",
    "y2 = np.tanh(2*beta1 * m)\n",
    "y3 = np.tanh(2*beta2 * m)\n",
    "\n",
    "plt.plot(m , y1 , label = \"y = m\")\n",
    "plt.plot(m , y2 , label = \"beta = 0.25\")\n",
    "plt.plot(m , y3 , label = \"beta = 1.5\")\n",
    "plt.legend()"
   ]
  },
  {
   "attachments": {},
   "cell_type": "markdown",
   "metadata": {},
   "source": [
    "## 『これならわかる機械学習入門』10章\n",
    "\n",
    "https://www.amazon.co.jp/%E3%81%93%E3%82%8C%E3%81%AA%E3%82%89%E3%82%8F%E3%81%8B%E3%82%8B%E6%A9%9F%E6%A2%B0%E5%AD%A6%E7%BF%92%E5%85%A5%E9%96%80-KS%E7%89%A9%E7%90%86%E5%B0%82%E9%96%80%E6%9B%B8-%E5%AF%8C%E8%B0%B7-%E6%98%AD%E5%A4%AB/dp/4065225493\n",
    "\n",
    "この教科書は，『Machine learning phases of matter』の前半部分を理解するために機械学習の入門的な内容を優しく扱った本です．\n",
    "\n",
    "まずはこの本の実装を忠実に再現し，論文理解への橋渡しをします．\n"
   ]
  },
  {
   "attachments": {},
   "cell_type": "markdown",
   "metadata": {},
   "source": [
    "## ギブスサンプリング（熱浴法）"
   ]
  },
  {
   "attachments": {},
   "cell_type": "markdown",
   "metadata": {},
   "source": [
    "GitHubコードをそのまま実行してみましょう．"
   ]
  },
  {
   "cell_type": "code",
   "execution_count": 34,
   "metadata": {},
   "outputs": [
    {
     "data": {
      "application/vnd.jupyter.widget-view+json": {
       "model_id": "b7b1e23e45a64a7a8631cf0fb480c9d3",
       "version_major": 2,
       "version_minor": 0
      },
      "text/plain": [
       "  0%|          | 0/1000 [00:00<?, ?it/s]"
      ]
     },
     "metadata": {},
     "output_type": "display_data"
    },
    {
     "data": {
      "image/png": "[encoded data removed]",
      "text/plain": [
       "<Figure size 640x480 with 1 Axes>"
      ]
     },
     "metadata": {},
     "output_type": "display_data"
    },
    {
     "name": "stdout",
     "output_type": "stream",
     "text": [
      "beta=0.9 1100\n"
     ]
    },
    {
     "data": {
      "application/vnd.jupyter.widget-view+json": {
       "model_id": "7624bf52db7c4a9cbc02c65aa3b3f64b",
       "version_major": 2,
       "version_minor": 0
      },
      "text/plain": [
       "  0%|          | 0/1100 [00:00<?, ?it/s]"
      ]
     },
     "metadata": {},
     "output_type": "display_data"
    },
    {
     "name": "stdout",
     "output_type": "stream",
     "text": [
      "\n",
      "beta=0.85 1100\n"
     ]
    },
    {
     "data": {
      "application/vnd.jupyter.widget-view+json": {
       "model_id": "34b4157ad30c41288fc12d68e9a1fa24",
       "version_major": 2,
       "version_minor": 0
      },
      "text/plain": [
       "  0%|          | 0/1100 [00:00<?, ?it/s]"
      ]
     },
     "metadata": {},
     "output_type": "display_data"
    },
    {
     "name": "stdout",
     "output_type": "stream",
     "text": [
      "\n",
      "beta=0.8 1100\n"
     ]
    },
    {
     "data": {
      "application/vnd.jupyter.widget-view+json": {
       "model_id": "8c01075204c74d419538648da859bee5",
       "version_major": 2,
       "version_minor": 0
      },
      "text/plain": [
       "  0%|          | 0/1100 [00:00<?, ?it/s]"
      ]
     },
     "metadata": {},
     "output_type": "display_data"
    },
    {
     "name": "stdout",
     "output_type": "stream",
     "text": [
      "\n",
      "beta=0.7 1100\n"
     ]
    },
    {
     "data": {
      "application/vnd.jupyter.widget-view+json": {
       "model_id": "83f1e19beef848a48384bfbff734253b",
       "version_major": 2,
       "version_minor": 0
      },
      "text/plain": [
       "  0%|          | 0/1100 [00:00<?, ?it/s]"
      ]
     },
     "metadata": {},
     "output_type": "display_data"
    },
    {
     "name": "stdout",
     "output_type": "stream",
     "text": [
      "\n",
      "beta=0.65 1100\n"
     ]
    },
    {
     "data": {
      "application/vnd.jupyter.widget-view+json": {
       "model_id": "226f3606cb224b798b3c0f2ac8e2351c",
       "version_major": 2,
       "version_minor": 0
      },
      "text/plain": [
       "  0%|          | 0/1100 [00:00<?, ?it/s]"
      ]
     },
     "metadata": {},
     "output_type": "display_data"
    },
    {
     "name": "stdout",
     "output_type": "stream",
     "text": [
      "\n",
      "beta=0.6 1100\n"
     ]
    },
    {
     "data": {
      "application/vnd.jupyter.widget-view+json": {
       "model_id": "ebde3d572bfb4badbbfd5df1007cd122",
       "version_major": 2,
       "version_minor": 0
      },
      "text/plain": [
       "  0%|          | 0/1100 [00:00<?, ?it/s]"
      ]
     },
     "metadata": {},
     "output_type": "display_data"
    },
    {
     "name": "stdout",
     "output_type": "stream",
     "text": [
      "\n",
      "beta=0.55 1100\n"
     ]
    },
    {
     "data": {
      "application/vnd.jupyter.widget-view+json": {
       "model_id": "9aebbec7e47a4a2e8a350f9941308a26",
       "version_major": 2,
       "version_minor": 0
      },
      "text/plain": [
       "  0%|          | 0/1100 [00:00<?, ?it/s]"
      ]
     },
     "metadata": {},
     "output_type": "display_data"
    },
    {
     "name": "stdout",
     "output_type": "stream",
     "text": [
      "\n",
      "beta=0.5 1100\n"
     ]
    },
    {
     "data": {
      "application/vnd.jupyter.widget-view+json": {
       "model_id": "941686e8cf104426b7e5c2ee9cd77dcb",
       "version_major": 2,
       "version_minor": 0
      },
      "text/plain": [
       "  0%|          | 0/1100 [00:00<?, ?it/s]"
      ]
     },
     "metadata": {},
     "output_type": "display_data"
    },
    {
     "name": "stdout",
     "output_type": "stream",
     "text": [
      "\n",
      "beta=0.47 1100\n"
     ]
    },
    {
     "data": {
      "application/vnd.jupyter.widget-view+json": {
       "model_id": "e971c42fbf6a4853bbf1794c4198236d",
       "version_major": 2,
       "version_minor": 0
      },
      "text/plain": [
       "  0%|          | 0/1100 [00:00<?, ?it/s]"
      ]
     },
     "metadata": {},
     "output_type": "display_data"
    },
    {
     "name": "stdout",
     "output_type": "stream",
     "text": [
      "\n",
      "beta=0.42 1100\n"
     ]
    },
    {
     "data": {
      "application/vnd.jupyter.widget-view+json": {
       "model_id": "29e8f5abf2d347cb97205865ab4f16ff",
       "version_major": 2,
       "version_minor": 0
      },
      "text/plain": [
       "  0%|          | 0/1100 [00:00<?, ?it/s]"
      ]
     },
     "metadata": {},
     "output_type": "display_data"
    },
    {
     "name": "stdout",
     "output_type": "stream",
     "text": [
      "\n",
      "beta=0.4 1100\n"
     ]
    },
    {
     "data": {
      "application/vnd.jupyter.widget-view+json": {
       "model_id": "ba27cd4f58b84a2a9f3e46f4dcbe0da1",
       "version_major": 2,
       "version_minor": 0
      },
      "text/plain": [
       "  0%|          | 0/1100 [00:00<?, ?it/s]"
      ]
     },
     "metadata": {},
     "output_type": "display_data"
    },
    {
     "name": "stdout",
     "output_type": "stream",
     "text": [
      "\n",
      "beta=0.35 1100\n"
     ]
    },
    {
     "data": {
      "application/vnd.jupyter.widget-view+json": {
       "model_id": "e5de4d16e1c34ecaa7ee55e83d986372",
       "version_major": 2,
       "version_minor": 0
      },
      "text/plain": [
       "  0%|          | 0/1100 [00:00<?, ?it/s]"
      ]
     },
     "metadata": {},
     "output_type": "display_data"
    },
    {
     "name": "stdout",
     "output_type": "stream",
     "text": [
      "\n",
      "beta=0.3 1100\n"
     ]
    },
    {
     "data": {
      "application/vnd.jupyter.widget-view+json": {
       "model_id": "b8e90e2e3ede498d8bdbea19cdb3081c",
       "version_major": 2,
       "version_minor": 0
      },
      "text/plain": [
       "  0%|          | 0/1100 [00:00<?, ?it/s]"
      ]
     },
     "metadata": {},
     "output_type": "display_data"
    },
    {
     "name": "stdout",
     "output_type": "stream",
     "text": [
      "\n",
      "beta=0.25 1100\n"
     ]
    },
    {
     "data": {
      "application/vnd.jupyter.widget-view+json": {
       "model_id": "bf31a9a78b7d44ed903f392812a255dd",
       "version_major": 2,
       "version_minor": 0
      },
      "text/plain": [
       "  0%|          | 0/1100 [00:00<?, ?it/s]"
      ]
     },
     "metadata": {},
     "output_type": "display_data"
    },
    {
     "name": "stdout",
     "output_type": "stream",
     "text": [
      "\n",
      "beta=0.2 1100\n"
     ]
    },
    {
     "data": {
      "application/vnd.jupyter.widget-view+json": {
       "model_id": "c92466d0a94640feb64db6f5045c8862",
       "version_major": 2,
       "version_minor": 0
      },
      "text/plain": [
       "  0%|          | 0/1100 [00:00<?, ?it/s]"
      ]
     },
     "metadata": {},
     "output_type": "display_data"
    },
    {
     "name": "stdout",
     "output_type": "stream",
     "text": [
      "\n",
      "beta=0.15 1100\n"
     ]
    },
    {
     "data": {
      "application/vnd.jupyter.widget-view+json": {
       "model_id": "1707b87086fe466f9353e8048e9c82bc",
       "version_major": 2,
       "version_minor": 0
      },
      "text/plain": [
       "  0%|          | 0/1100 [00:00<?, ?it/s]"
      ]
     },
     "metadata": {},
     "output_type": "display_data"
    },
    {
     "name": "stdout",
     "output_type": "stream",
     "text": [
      "\n",
      "beta=0.1 1100\n"
     ]
    },
    {
     "data": {
      "application/vnd.jupyter.widget-view+json": {
       "model_id": "ed579f7af51841a299179e6e6729a23b",
       "version_major": 2,
       "version_minor": 0
      },
      "text/plain": [
       "  0%|          | 0/1100 [00:00<?, ?it/s]"
      ]
     },
     "metadata": {},
     "output_type": "display_data"
    },
    {
     "name": "stdout",
     "output_type": "stream",
     "text": [
      "\n",
      "beta=0.05 1100\n"
     ]
    },
    {
     "data": {
      "application/vnd.jupyter.widget-view+json": {
       "model_id": "01741cddb81f456c963bb28d8ffe550a",
       "version_major": 2,
       "version_minor": 0
      },
      "text/plain": [
       "  0%|          | 0/1100 [00:00<?, ?it/s]"
      ]
     },
     "metadata": {},
     "output_type": "display_data"
    },
    {
     "name": "stdout",
     "output_type": "stream",
     "text": [
      "\n",
      "beta=0.0 1100\n"
     ]
    },
    {
     "data": {
      "application/vnd.jupyter.widget-view+json": {
       "model_id": "67b3eb79d285404c9a5f7645681cdbce",
       "version_major": 2,
       "version_minor": 0
      },
      "text/plain": [
       "  0%|          | 0/1100 [00:00<?, ?it/s]"
      ]
     },
     "metadata": {},
     "output_type": "display_data"
    },
    {
     "name": "stdout",
     "output_type": "stream",
     "text": [
      "\n"
     ]
    },
    {
     "data": {
      "image/png": "[encoded data removed]",
      "text/plain": [
       "<Figure size 640x480 with 1 Axes>"
      ]
     },
     "metadata": {},
     "output_type": "display_data"
    }
   ],
   "source": [
    "# 2d Ising model\n",
    "import math\n",
    "import random\n",
    "import matplotlib.pyplot as plt\n",
    "import numpy as np\n",
    "# tqdm はプログレスバーを表示するためのライブラリ\n",
    "from tqdm. notebook import tqdm\n",
    "\n",
    "# 周期的境界条件を考慮してサイトの移動を管理\n",
    "def xup(x):\n",
    "  x+=1\n",
    "  if x>=L[0]:\n",
    "    x-=L[0] \n",
    "  return x\n",
    "def yup(y): \n",
    "  y+=1\n",
    "  if y>=L[1]:\n",
    "    y-=L[1] \n",
    "  return y\n",
    "def xdn(x):\n",
    "  x-=1\n",
    "  if x<0:\n",
    "    x+=L[0]\n",
    "  return x\n",
    "def ydn(y):\n",
    "  y-=1\n",
    "  if y<0:\n",
    "    y+=L[1]\n",
    "  return y\n",
    "\n",
    "# ある点 (x,y)の上下左右のスピンを合計する\n",
    "def spin_sum(sc,x,y):\n",
    "  h=0\n",
    "  h+=sc[xup(x)][y]\n",
    "  h+=sc[xdn(x)][y]\n",
    "  h+=sc[x][yup(y)]\n",
    "  h+=sc[x][ydn(y)]\n",
    "  return h\n",
    "\n",
    "# ある点 (x,y)の熱浴法を行う\n",
    "def heatbath_local(beta,hz,sc,x,y):\n",
    "  h = spin_sum(sc,x,y)-hz\n",
    "  # このサイトが次に s=+1 となる確率を計算する \n",
    "  p = math.exp(beta*h)/(math.exp(beta*h) + math.exp(-beta*h))\n",
    "  r = random.random()\n",
    "  # 確率に基づいてランダムにs を決定する \n",
    "  if r < p: # success\n",
    "    sc[x][y]=1\n",
    "  else:\n",
    "    sc[x][y]=-1\n",
    "  return sc\n",
    "\n",
    "# すべての (x,y)に対して熱浴法を行う \n",
    "def heatbath(beta,hz,sc):\n",
    "  xlist = list(range(L[0]) ) \n",
    "  random.shuffle(xlist) \n",
    "  ylist = list(range(L[1]) ) \n",
    "  random.shuffle(ylist) \n",
    "  for x in xlist:\n",
    "    for y in ylist:\n",
    "      sc = heatbath_local(beta,hz,sc,x,y)\n",
    "  return sc\n",
    "\n",
    "# 磁化率を計算する\n",
    "def magnetization (sc):\n",
    "  m=0\n",
    "  for x in range(L[0]):\n",
    "    for y in range(L[1]):\n",
    "      m+=sc[x][y]\n",
    "  return m/(L[0]*L[1])\n",
    "\n",
    "# モンテカルロ法の初期配位をセットする \n",
    "def init_conf_cold():\n",
    "  sc = [[1]*L[1] for i in range(L[0])]\n",
    "  return sc\n",
    "\n",
    "def init_conf(init=\"cold\"):\n",
    "  sc = init_conf_cold()\n",
    "  if init==\"cold\":\n",
    "    return sc\n",
    "  for x in range(L[0]): \n",
    "    for y in range(L[1]): \n",
    "      r = random.random() \n",
    "      if r<0.5:\n",
    "        sc[x][y]=1\n",
    "      else:\n",
    "        sc[x][y]=-1\n",
    "  return sc\n",
    "\n",
    "\n",
    "L = [32,32]\n",
    "beta = 0.440687 \n",
    "hz=0.0\n",
    "Nsweep = 10**3\n",
    "#\n",
    "sc = init_conf()\n",
    "mctime=[];mag_hist=[]\n",
    "for isweep in tqdm(range(Nsweep)):\n",
    "  sc = heatbath(beta,hz,sc)\n",
    "  mag=magnetization(sc)\n",
    "  mctime.append(isweep)\n",
    "  mag_hist.append(mag)\n",
    "plt.plot(mctime,mag_hist)\n",
    "plt.ylim([-1.1,1.1])\n",
    "plt.xlabel(\"MC time\")\n",
    "plt.ylabel(\"magnetization\")\n",
    "plt.show()\n",
    "\n",
    "\n",
    "\n",
    "# conf ディレクトリがなければ作る\n",
    "import os\n",
    "os.makedirs(\"conf\", exist_ok = True)\n",
    "#\n",
    "L = [32,32] # 格子サイズの設定\n",
    "hz = -0.0005 # 相転移を見るために非常に弱い磁場を添加\n",
    "\n",
    "nprm=len(prm_list) # パラメータリストの長さを調べる\n",
    "betas = []\n",
    "mags = []\n",
    "mags_er = []\n",
    "#\n",
    "random.seed(12345)\n",
    "sc = init_conf()\n",
    "# 各ベータごとにパラメータを読み出して配位を作る\n",
    "for ibeta in range(nprm):\n",
    "  beta = prm_list[ibeta][0]\n",
    "  Nsweep = prm_list[ibeta][1]\n",
    "  Ndiscard = prm_list[ibeta][2]\n",
    "  fname = prm_list[ibeta][3]\n",
    "  save_every = prm_list[ibeta][4]\n",
    "  conf_cnt = 0\n",
    "#\n",
    "  print(f\"beta={beta} {Nsweep}\")\n",
    "  mag_hist=[]\n",
    "  # 熱浴法で配位を作る\n",
    "  for isweep in tqdm(range(Nsweep)):\n",
    "    sc = heatbath(beta,hz,sc)\n",
    "    mag=magnetization(sc)\n",
    "    mag_hist.append(mag)\n",
    "    if (isweep%save_every == 0)&(isweep>=Ndiscard):\n",
    "      scn = np.array(sc)\n",
    "      np.save(f\"{fname}{conf_cnt}\",scn)\n",
    "      conf_cnt+=1\n",
    "  #\n",
    "  print(\"\")\n",
    "  mag_hist=np.array(mag_hist[Ndiscard:])\n",
    "  mag = np.mean(mag_hist)\n",
    "  mag_er = np.std(mag_hist)/np.sqrt(len(mag_hist)-1) #\n",
    "  betas.append(beta)\n",
    "  mags.append(mag)\n",
    "  mags_er.append(mag_er)\n",
    "  #\n",
    "plt.xlabel(r\"$\\beta$\")\n",
    "plt.ylabel(\"magnetization\")\n",
    "plt.errorbar(betas,mags,yerr=mags_er)\n",
    "plt.show()\n",
    "\n"
   ]
  },
  {
   "attachments": {},
   "cell_type": "markdown",
   "metadata": {},
   "source": [
    "ここから一つ一つ順を追ってコードを見てみましょう．"
   ]
  },
  {
   "attachments": {},
   "cell_type": "markdown",
   "metadata": {},
   "source": [
    "### 熱浴法の実装"
   ]
  },
  {
   "cell_type": "code",
   "execution_count": 16,
   "metadata": {},
   "outputs": [],
   "source": [
    "# 周期的境界条件を考慮してサイトの移動を管理\n",
    "\n",
    "# 右隣のサイトを返す\n",
    "def xup(x):\n",
    "  x+=1\n",
    "  if x>=L[0]:\n",
    "    x-=L[0] \n",
    "  return x\n",
    "# 上隣のサイトを返す\n",
    "def yup(y): \n",
    "  y+=1\n",
    "  if y>=L[1]:\n",
    "    y-=L[1] \n",
    "  return y\n",
    "# 左隣のサイトを返す\n",
    "def xdn(x):\n",
    "  x-=1\n",
    "  if x<0:\n",
    "    x+=L[0]\n",
    "  return x\n",
    "# 下隣のサイトを返す\n",
    "def ydn(y):\n",
    "  y-=1\n",
    "  if y<0:\n",
    "    y+=L[1]\n",
    "  return y"
   ]
  },
  {
   "cell_type": "code",
   "execution_count": 23,
   "metadata": {},
   "outputs": [
    {
     "name": "stdout",
     "output_type": "stream",
     "text": [
      "[[1, 1, 1, 1], [1, 1, 1, 1], [1, 1, 1, 1], [1, 1, 1, 1]]\n"
     ]
    }
   ],
   "source": [
    "# 挙動の挙動を確認する\n",
    "L = [4,4] # 4×4の正方格子を作成\n",
    "'''\n",
    "[[1]*L[1] for i in range(L[0])] により、長さが L[1] で全ての要素が 1 のリストが L[0] 個生成されます。\n",
    "すべての正方格子各点が上向きスピンの状態を作成しました．\n",
    "'''\n",
    "sc = [[1]*L[1] for i in range(L[0])] # 内包表記で作成\n",
    "print(sc)\n"
   ]
  },
  {
   "cell_type": "code",
   "execution_count": 22,
   "metadata": {},
   "outputs": [
    {
     "data": {
      "text/plain": [
       "1"
      ]
     },
     "execution_count": 22,
     "metadata": {},
     "output_type": "execute_result"
    }
   ],
   "source": [
    "sc[0][0]"
   ]
  },
  {
   "cell_type": "code",
   "execution_count": 20,
   "metadata": {},
   "outputs": [
    {
     "data": {
      "text/plain": [
       "2"
      ]
     },
     "execution_count": 20,
     "metadata": {},
     "output_type": "execute_result"
    }
   ],
   "source": [
    "xup(sc[0][0])"
   ]
  },
  {
   "cell_type": "code",
   "execution_count": 24,
   "metadata": {},
   "outputs": [],
   "source": [
    "# ある点 (x,y)の上下左右のスピンを合計する\n",
    "def spin_sum(sc,x,y):\n",
    "  h=0\n",
    "  h+=sc[xup(x)][y]\n",
    "  h+=sc[xdn(x)][y]\n",
    "  h+=sc[x][yup(y)]\n",
    "  h+=sc[x][ydn(y)]\n",
    "  return h"
   ]
  },
  {
   "cell_type": "code",
   "execution_count": 25,
   "metadata": {},
   "outputs": [
    {
     "name": "stdout",
     "output_type": "stream",
     "text": [
      "[[1, 1, 1, 1], [1, 1, 1, 1], [1, 1, 1, 1], [1, 1, 1, 1]]\n",
      "4\n",
      "4\n",
      "4\n",
      "4\n"
     ]
    }
   ],
   "source": [
    "# 挙動を確認\n",
    "L = [4,4]\n",
    "sc = [[1]*L[1] for i in range(L[0])]\n",
    "print(sc)\n",
    "print(spin_sum(sc,0,0))"
   ]
  },
  {
   "cell_type": "code",
   "execution_count": 29,
   "metadata": {},
   "outputs": [],
   "source": [
    "# ある点 (x,y)の熱浴法を行う\n",
    "'''\n",
    "新しいスピンの状態は、近傍のスピンの和と逆温度 beta に依存します。\n",
    "'''\n",
    "def heatbath_local(beta,hz,sc,x,y):\n",
    "  h = spin_sum(sc,x,y)-hz\n",
    "  # このサイトが次に s=+1 となる確率を計算する \n",
    "  p = math.exp(beta*h)/(math.exp(beta*h) + math.exp(-beta*h))\n",
    "  r = random.random()\n",
    "  # 確率に基づいてランダムにs を決定する \n",
    "  if r < p: # success\n",
    "    sc[x][y]=1\n",
    "  else:\n",
    "    sc[x][y]=-1\n",
    "  return sc"
   ]
  },
  {
   "cell_type": "code",
   "execution_count": 30,
   "metadata": {},
   "outputs": [
    {
     "name": "stdout",
     "output_type": "stream",
     "text": [
      "[[1, 1, 1, 1], [1, 1, 1, 1], [1, 1, 1, 1], [1, 1, 1, 1]]\n",
      "4\n",
      "[[-1, 1, 1, 1], [1, 1, 1, 1], [1, 1, 1, 1], [1, 1, 1, 1]]\n"
     ]
    }
   ],
   "source": [
    "# 挙動を確認\n",
    "L = [4,4]\n",
    "sc = [[1]*L[1] for i in range(L[0])]\n",
    "print(sc)\n",
    "print(spin_sum(sc,0,0))\n",
    "sc = heatbath_local(beta,hz,sc,0,0)\n",
    "print(sc)"
   ]
  },
  {
   "cell_type": "code",
   "execution_count": 31,
   "metadata": {},
   "outputs": [],
   "source": [
    "# 磁化率を計算する\n",
    "def magnetization (sc):\n",
    "  m=0\n",
    "  for x in range(L[0]):\n",
    "    for y in range(L[1]):\n",
    "      m+=sc[x][y]\n",
    "  return m/(L[0]*L[1])\n",
    "\n"
   ]
  },
  {
   "cell_type": "code",
   "execution_count": 35,
   "metadata": {},
   "outputs": [
    {
     "name": "stdout",
     "output_type": "stream",
     "text": [
      "[[-1, 1, 1, 1], [1, 1, 1, 1], [1, 1, 1, 1], [1, 1, 1, 1]]\n",
      "0.875\n"
     ]
    }
   ],
   "source": [
    "# 挙動の確認\n",
    "L = [4,4]\n",
    "sc = [[1]*L[1] for i in range(L[0])]\n",
    "sc = heatbath_local(beta,hz,sc,0,0)\n",
    "print(sc)\n",
    "print(magnetization(sc))"
   ]
  },
  {
   "cell_type": "code",
   "execution_count": 32,
   "metadata": {},
   "outputs": [],
   "source": [
    "# モンテカルロ法の初期配位をセットする \n",
    "def init_conf_cold():\n",
    "  sc = [[1]*L[1] for i in range(L[0])]\n",
    "  return sc\n",
    "\n",
    "def init_conf(init=\"cold\"):\n",
    "  sc = init_conf_cold()\n",
    "  if init==\"cold\":\n",
    "    return sc\n",
    "  for x in range(L[0]): \n",
    "    for y in range(L[1]): \n",
    "      r = random.random() \n",
    "      if r<0.5:\n",
    "        sc[x][y]=1\n",
    "      else:\n",
    "        sc[x][y]=-1\n",
    "  return sc"
   ]
  },
  {
   "cell_type": "code",
   "execution_count": 39,
   "metadata": {},
   "outputs": [
    {
     "data": {
      "application/vnd.jupyter.widget-view+json": {
       "model_id": "0c3e4e34016940d6816835b9aa08b3ce",
       "version_major": 2,
       "version_minor": 0
      },
      "text/plain": [
       "  0%|          | 0/1000 [00:00<?, ?it/s]"
      ]
     },
     "metadata": {},
     "output_type": "display_data"
    },
    {
     "data": {
      "image/png": "[encoded data removed]",
      "text/plain": [
       "<Figure size 640x480 with 1 Axes>"
      ]
     },
     "metadata": {},
     "output_type": "display_data"
    }
   ],
   "source": [
    "# モンテカルロシミュレーション開始\n",
    "'''\n",
    "32×32 の正方格子を作成し、磁場をかけて熱浴法を行う。\n",
    "ただし外部磁場はかけない。\n",
    "逆温度は 0.440687 とする。つまり，T=2.269 Kに対応する。\n",
    "'''\n",
    "L = [32,32]\n",
    "beta = 0.440687 \n",
    "hz=0.0\n",
    "Nsweep = 10**3\n",
    "#\n",
    "sc = init_conf()\n",
    "mctime=[];mag_hist=[]\n",
    "for isweep in tqdm(range(Nsweep)):\n",
    "  sc = heatbath(beta,hz,sc)\n",
    "  mag=magnetization(sc)\n",
    "  mctime.append(isweep)\n",
    "  mag_hist.append(mag)\n",
    "plt.plot(mctime,mag_hist)\n",
    "plt.ylim([-1.1,1.1])\n",
    "plt.xlabel(\"MC time\")\n",
    "plt.ylabel(\"magnetization\")\n",
    "plt.show()"
   ]
  },
  {
   "attachments": {},
   "cell_type": "markdown",
   "metadata": {},
   "source": [
    "磁化率がの推移がわかります．"
   ]
  },
  {
   "cell_type": "code",
   "execution_count": null,
   "metadata": {},
   "outputs": [],
   "source": []
  },
  {
   "cell_type": "code",
   "execution_count": null,
   "metadata": {},
   "outputs": [],
   "source": []
  },
  {
   "cell_type": "code",
   "execution_count": null,
   "metadata": {},
   "outputs": [],
   "source": []
  },
  {
   "attachments": {},
   "cell_type": "markdown",
   "metadata": {},
   "source": [
    "## 『これならわかる機械学習入門』11章"
   ]
  },
  {
   "attachments": {},
   "cell_type": "markdown",
   "metadata": {},
   "source": []
  }
 ],
 "metadata": {
  "kernelspec": {
   "display_name": "base",
   "language": "python",
   "name": "python3"
  },
  "language_info": {
   "codemirror_mode": {
    "name": "ipython",
    "version": 3
   },
   "file_extension": ".py",
   "mimetype": "text/x-python",
   "name": "python",
   "nbconvert_exporter": "python",
   "pygments_lexer": "ipython3",
   "version": "3.10.9"
  },
  "orig_nbformat": 4
 },
 "nbformat": 4,
 "nbformat_minor": 2
}
